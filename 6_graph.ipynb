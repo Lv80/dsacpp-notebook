{
 "cells": [
  {
   "cell_type": "markdown",
   "metadata": {},
   "source": [
    "# 六、 图\n",
    "\n",
    "## 图的概述\n",
    "\n",
    "图 **graph** 定义为 G=(V,E)，其中集合 V 中的元素称作顶点 **vertex**，集合 E 中的元素分别对应于 V 中的某一对顶点 (u, v)，表示它们之间的某种关系，称为边 **edge**。\n",
    "\n",
    "若边 (u,v) 所对应的顶点 u 和 v 的次序无所谓，则称为无向边 **undirected edge**，例如同学关系; 否则为有向边 **directed edge**，例如企业与银行间的借贷关系。\n",
    "\n",
    "有向边 (u,v) 中的 u 称为边的起点 **origin** 或尾顶点 **tail**，而 v 为终点 **destination** 或头顶点 **head**。\n",
    "\n",
    "由无向边组成的图为无向图 **undirected graph, undigraph**，由有向边组成的为有向图 **directed graph, digraph**，混合组成的为混合图 **mixed graph**。\n",
    "\n",
    "![graph_3_forms.png](img/c6_graph/graph_3_forms.png)\n",
    "\n",
    "有向图更通用，因为无向边可以等价转化成两条有向边。故重点研究有向图。\n",
    "\n",
    "## 度\n",
    "\n",
    "边 e=(u,v) 中，称 u 和 v 彼此邻接 **adjacent**，互为邻居; 而顶点都与边 e 彼此关联 **incident**。无向图中，与顶点 v 关联的边数为 v 的度数 **degree, deg(v)**。而有向边中，边 e 称为 u 的出边 **outgoing edge** 和 v 的入边 **incoming edge**。v 的出边总数称为其出席 **out-degree, outdeg(v)**，入边总数称为其入度 **in-degree, indeg(v)**。\n",
    "\n",
    "## 简单图\n",
    "\n",
    "联接于同一顶点之间的边，称为自环 **self-loop**。不含任何自环的图称为简单图 **simple graph**，为主要研究对象。\n",
    "\n",
    "## 通路与环路\n",
    "\n",
    "+ 通路或路径 **path** 就是由 m+1 个顶点和 m 条边交替而成的一个序列，边的总数 m 称为通路的长度。\n",
    "+ 一条通路中，如果没有重复的顶点，称为简单通路 **simple path**。\n",
    "+ 起点和终点相同的通路称为环路 **cycle**。\n",
    "+ 不含任何环路的有向图称为有向无环图 **directed acyclic graph, DAG**。\n",
    "+ 除起止点节，再没有其它重复顶点的环路称为简单环路 **simple cycle**。\n",
    "+ 经过图中各边一次且恰好一次的环路称为环路 **Eulerian tour**，其长度为图中边的总数。\n",
    "+ 经过图中各顶点一次且恰好一次的环路，称为哈密尔顿环路 **Hamilton tour**。\n",
    "+ 各边带权重 **weight** 的图为带权图 **weighted graph** 或带权网络 **weighted network**。\n",
    "\n",
    "![cycle_instances.png](img/c6_graph/cycle_instances.png)\n",
    "\n",
    "## 复杂度\n",
    "\n",
    "应以顶点数与边数的总和 (n+e) 来度量。\n",
    "\n",
    "无论有多少顶点，边数都有可能为 0。考虑最多有多少边的情况：\n",
    "\n",
    "+ 当为无向图时，每一对顶点贡献一条边，n 个顶点时，第一个顶点可与其后 n-1 个顶点可联边，第二个顶点可与其后 n-2 个顶点联边，...，总数为 $(n-1)+(n-2)+\\cdots+1 = n(n-1)/2$。\n",
    "+ 当为有向图时，每一对顶点贡献两条边，总数为 n(n-1)/2。\n",
    "\n",
    "因此，边数 $e=O(n^2)$。\n",
    "\n",
    "\n",
    "# 邻接矩阵 adjacency matrix\n",
    "\n",
    "![adjacency_matrix.png](img/c6_graph/adjacency_matrix.png)\n",
    "\n",
    "n 个顶点的图用 A[n][n] 方阵表示，其中的每个单元描述顶点间的邻接关系，例如无权图用 1, 0 表示有无连接，有权图描述权重。\n",
    "\n",
    "\n",
    "\n",
    "\n"
   ]
  }
 ],
 "metadata": {
  "kernelspec": {
   "display_name": "Python 2",
   "language": "python",
   "name": "python2"
  },
  "language_info": {
   "codemirror_mode": {
    "name": "ipython",
    "version": 2
   },
   "file_extension": ".py",
   "mimetype": "text/x-python",
   "name": "python",
   "nbconvert_exporter": "python",
   "pygments_lexer": "ipython2",
   "version": "2.7.12"
  }
 },
 "nbformat": 4,
 "nbformat_minor": 2
}
