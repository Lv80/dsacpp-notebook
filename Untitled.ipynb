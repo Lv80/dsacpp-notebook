{
 "cells": [
  {
   "cell_type": "markdown",
   "metadata": {},
   "source": [
    "\n",
    "1. 树的所有节点深度的最大值称为树的高度 height(T)，约定只有一个节点（即根节点）的树的树高为 0,空树的高为 -1\n",
    "2. 而节点 v 的高度即为其子树的高度 height(v)\n",
    "3. 二叉树 binary tree: 即每个节点的度数不超过 2\n",
    "4. K 叉树 k-ary tree: 每个节点的度数不超过 k 的有根树\n",
    "\n",
    "\n",
    "### 多叉树的表示方法\n",
    "\n",
    "+ 以父节点表示，每个节点中存储父节点信息。访问父节点 O(1)，访问子节点，要遍历所有节点，O(n)。\n",
    "\n",
    "![parent_representation.png](img/c5_binary_tree/parent_representation.png)\n",
    "\n",
    "+ 以子节点表示，每个节点中将其所有子节点组织为一个列表或向量。若有 r 个子节点，则访问子节点 O(r+1)，访问父节点 O(n)。\n",
    "\n",
    "![children_representation.png](img/c5_binary_tree/children_representation.png)\n",
    "\n",
    "\n",
    "+ 父节点+子节点表示，操作方便，但节点的添加删除时，树拓扑结构的维护成本高。\n",
    "\n",
    "![parent_children_representation.png](img/c5_binary_tree/parent_children_representation.png)\n",
    "\n",
    "### 有序多叉树可转换为二叉树\n",
    "\n",
    "有序多叉树中，同一节点的所有子节点有序。\n",
    "\n",
    "转换时后，原节点的**长子（即第一个子节点）** 成为了其左节点，原节点的**下一个兄弟** 成为了其右节点。\n",
    "\n",
    "![mTree2bTree.png](img/c5_binary_tree/mTree2bTree.png)\n",
    "\n",
    "## 编码树\n",
    "\n",
    "编码即将一个字符集中的每一个字符映射到一个唯一的二进制串。为避免解码时产生歧义，编码方案中每个字符对应的编码都不能是某个字符编码的前缀。这是一种可行的编码方案，叫 **前缀无歧义编码, Prefix-Free Code，PFC**。\n",
    "\n",
    "### 二叉编码树\n",
    "\n",
    "任一编码方案都可描述为一棵二叉树，每次向右（右）对应一个 0(1)。从根节点到每个节点的唯一通路，可以表述为一个二进制串，称为 **根通路串 root path string**。PFC 编码树的要求是，每个要映射的字符都必须位于叶子节点，否则，会出现某个字符是另一个字符的父节点，即其编码将会是另一编码的前缀。\n",
    "\n",
    "如下图中，左边的是一个可行的 PFC 树，右边的不可行。\n",
    "\n",
    "[!PFC_instance.png](img/c5_binary_tree/PFC_instance.png)\n"
   ]
  }
 ],
 "metadata": {
  "kernelspec": {
   "display_name": "Python 2",
   "language": "python",
   "name": "python2"
  },
  "language_info": {
   "codemirror_mode": {
    "name": "ipython",
    "version": 2
   },
   "file_extension": ".py",
   "mimetype": "text/x-python",
   "name": "python",
   "nbconvert_exporter": "python",
   "pygments_lexer": "ipython2",
   "version": "2.7.12"
  }
 },
 "nbformat": 4,
 "nbformat_minor": 2
}
