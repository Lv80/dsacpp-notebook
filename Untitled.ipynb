{
 "cells": [
  {
   "cell_type": "markdown",
   "metadata": {},
   "source": [
    "# 一、绪论\n",
    "\n",
    "## 算法要素：\n",
    "\n",
    "+ 输入与输出\n",
    "+ 基本操作、确定性与可行性\n",
    "+ 有穷性 finiteness， 正确性 correctness\n",
    "+ 退化（degeneracy, 即极端情况）与鲁棒性（robustness)\n",
    "+ 重用性\n",
    "\n",
    "证明算法有穷性和正确性的技巧：从适当的角度审视整个计算过程，并找出其所具有的某种不变性和单调性。单调性指算法会推进问题规模递减，不变性则不仅在算法初始状态下自然满足，而且应与最终的正确性相响应，当问题规模减小时，不变性应随即等价于正确性。\n",
    "\n",
    "## 时间复杂度\n",
    "\n",
    "time complexity 是输入规模 n 的一个函数，有所有的 n! 种输入中，选择执行时间最长者记为 T(n)，作为算法的时间复杂度。\n",
    "\n",
    "### 渐进复杂度\n",
    "\n",
    "即只关注算法在输入规模大时的复杂度，用大 O 记号(big-o notation) 来表示 T(n) 的渐进上界。\n",
    "\n",
    "定时，若存在正常数 c 和函数 f(n)，使得对任何 n >> 2 都有 $T(n) \\le c \\bullet f(n)$，则可认为在 n 足够大后，f(n) 给出了 T(n) 增长速度的一个渐进上界，记为： T(n) = O(f(n))。\n",
    "\n",
    "大 O 记号的性质：\n",
    "\n",
    "+ 对于任一常数 c > 0, 有 $O(f(n)) = O(c \\bullet f(n))$，即函数各项的正的常系数可忽略并等同于 1\n",
    "+ 对于任意常数 a > b > 0, 有 $O(n^a + n^b) = O(n^a)$，即多项式中的低次项可忽略。 \n",
    "\n",
    "在 O 记号确定上界，大 $\\Omega$ 记号确定下界，而 大 $\\Theta$ 记号给出了一个确界，是一个准确估计：\n",
    "\n",
    "![time_complexity.png](img/time_complexity.png)\n",
    "\n",
    "\n",
    "## 复杂度分析\n",
    "\n",
    "### 1. 常数时间复杂度算法 constant-time algorithm， O(1)\n",
    "\n",
    "### 2. 对数复杂度 O(logn)\n",
    "\n",
    "整数 n 二进制展开的数位数为 $1+\\lfloor log_2 n \\rfloor$\n",
    "\n",
    "根据 O 记号定义，有 $log_r n$ 界定时，常底数 r 具体取值无所谓，故对数复杂度直接记为 O(logn)，为 logarithmic-time algorithm。\n",
    "\n",
    "而对数多项式复杂度表示为 $T(n) = O(log^c n), c>0$，为对数多项式时间复杂度算法，polylogarithmic-time algorithm。其效率无限接近于常复杂度。\n",
    "\n",
    "### 3. 线性 O(n)， linear-time algorithm\n",
    "\n",
    "### 4. 多项式 O(polynomial(n)), polynomial-time algorithm\n",
    "\n",
    "实际应用中，一般认为这种复杂度是可接受的，其问题是可有效求解或易解的 (tractable)。\n",
    "\n",
    "### 5. 指数 $O(2^n)$"
   ]
  }
 ],
 "metadata": {
  "kernelspec": {
   "display_name": "Python 2",
   "language": "python",
   "name": "python2"
  },
  "language_info": {
   "codemirror_mode": {
    "name": "ipython",
    "version": 2
   },
   "file_extension": ".py",
   "mimetype": "text/x-python",
   "name": "python",
   "nbconvert_exporter": "python",
   "pygments_lexer": "ipython2",
   "version": "2.7.12"
  }
 },
 "nbformat": 4,
 "nbformat_minor": 2
}
