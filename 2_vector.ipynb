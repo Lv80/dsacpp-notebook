{
 "cells": [
  {
   "cell_type": "markdown",
   "metadata": {},
   "source": [
    "# 二、向量\n",
    "\n",
    "线性结构统称为序列 sequence，又根据数据项的逻辑次序与其物理存储地址的对应关系，进一步分为向量 vector 和列表 list。\n",
    "\n",
    "1. 向量：物理存放位置与逻辑次序吻合，此时的逻辑次序也称为秩 rank。\n",
    "2. 列表：逻辑上相邻的数据项在物理上未必相邻。\n",
    "\n",
    "## 从数组到向量\n",
    "\n",
    "C 等语言中的数组能组织相同类型的数据项，并用下标存取数据项。元素的物理地址和下标满足线性关系，故称为线性数组 linear array。\n",
    "\n",
    "向量是线性数组的一种抽象和泛化，它也是由具有线性次序的一组元素构成的集体， $ V = \\{ V_0, V1, \\cdots, V_{n-1} \\}$，其中的元素分别由秩 (rank) 相互区别（相当于下标）。各元素的秩互异，且均为 [0, n) 内的整数，若元素 e 有 r 个前驱元素，则其秩为 r。通过 r 亦可唯一确定 $e = V_r$，称为 **循秩访问 call-by-rank**。\n"
   ]
  }
 ],
 "metadata": {
  "kernelspec": {
   "display_name": "Python 2",
   "language": "python",
   "name": "python2"
  },
  "language_info": {
   "codemirror_mode": {
    "name": "ipython",
    "version": 2
   },
   "file_extension": ".py",
   "mimetype": "text/x-python",
   "name": "python",
   "nbconvert_exporter": "python",
   "pygments_lexer": "ipython2",
   "version": "2.7.12"
  }
 },
 "nbformat": 4,
 "nbformat_minor": 2
}
